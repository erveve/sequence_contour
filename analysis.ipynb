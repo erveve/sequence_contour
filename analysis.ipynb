{
 "cells": [
  {
   "cell_type": "markdown",
   "metadata": {},
   "source": [
    "# Анализ данных и построенных контуров"
   ]
  },
  {
   "cell_type": "markdown",
   "metadata": {},
   "source": [
    "Загружаем нужные библиотеки и имеющиеся данные"
   ]
  },
  {
   "cell_type": "code",
   "execution_count": 1,
   "metadata": {},
   "outputs": [],
   "source": [
    "import os\n",
    "import pandas as pd\n",
    "from tqdm.notebook import tqdm\n",
    "from sequence import *\n",
    "\n",
    "datas = []\n",
    "for subdir, dirs, files in os.walk('datasets'):\n",
    "    for file in files:\n",
    "        filepath = subdir + os.sep + file\n",
    "        if filepath.endswith(\".dat\"):\n",
    "            datas.append(np.loadtxt(filepath))\n",
    "n = len(datas)"
   ]
  },
  {
   "cell_type": "markdown",
   "metadata": {},
   "source": [
    "## Поиск зависимости количества пропусков и петель от размера входных данных"
   ]
  },
  {
   "cell_type": "code",
   "execution_count": 2,
   "metadata": {},
   "outputs": [
    {
     "data": {
      "application/vnd.jupyter.widget-view+json": {
       "model_id": "d764aee65f1446599bc73d3e162a78a2",
       "version_major": 2,
       "version_minor": 0
      },
      "text/plain": [
       "HBox(children=(HTML(value=''), FloatProgress(value=0.0, max=21.0), HTML(value='')))"
      ]
     },
     "metadata": {},
     "output_type": "display_data"
    },
    {
     "name": "stdout",
     "output_type": "stream",
     "text": [
      "\n"
     ]
    }
   ],
   "source": [
    "plot_data = []\n",
    "for data in tqdm(datas):\n",
    "    seq = Sequence(data)\n",
    "    _, nuniq = seq.is_data_unique(return_not_unique=True)\n",
    "    _, md = seq.sorted(key='nn_md').have_missed_data(return_num=True)\n",
    "    _, loops = seq.sorted(key='nn_loops').have_loops(return_num=True)\n",
    "    plot_data.append([seq.get_data_len(), len(md), loops, len(nuniq)])\n",
    "    \n",
    "plot_data = np.array(sorted(plot_data))"
   ]
  },
  {
   "cell_type": "code",
   "execution_count": 3,
   "metadata": {},
   "outputs": [
    {
     "data": {
      "image/png": "[encoded data removed]",
      "text/plain": [
       "<Figure size 1080x288 with 2 Axes>"
      ]
     },
     "metadata": {
      "needs_background": "light"
     },
     "output_type": "display_data"
    }
   ],
   "source": [
    "fig, ax = plt.subplots(1,2, figsize=(15, 4))\n",
    "\n",
    "ax[0].plot(plot_data[:,0], plot_data[:,1])\n",
    "ax[0].set_title(\"Зависимость количества пропусков от размера входных данных\")\n",
    "ax[0].set_xlabel(\"Размер входных данных\")\n",
    "ax[0].set_ylabel(\"Количество пропусков\")\n",
    "\n",
    "ax[1].plot(plot_data[:,0], plot_data[:,2])\n",
    "ax[1].set_title(\"Зависимость количества петель от размера входных данных\")\n",
    "ax[1].set_xlabel(\"Размер входных данных\")\n",
    "ax[1].set_ylabel(\"Количество петель\")\n",
    "\n",
    "plt.savefig(\"statistic/data_analysis.png\")\n",
    "plt.show()"
   ]
  },
  {
   "cell_type": "markdown",
   "metadata": {},
   "source": [
    "## Каким требованиям удовлетворяют контуры, построенные алгоритмами"
   ]
  },
  {
   "cell_type": "markdown",
   "metadata": {},
   "source": [
    "Функция для сохранения таблиц в формате, удобном для вставки в диплом"
   ]
  },
  {
   "cell_type": "code",
   "execution_count": 4,
   "metadata": {},
   "outputs": [],
   "source": [
    "def save_table_tex(table, table_name='output', fmt='%.5f'):\n",
    "    np.savetxt(\"statistic/\"+table_name+\".txt\", table, fmt=fmt, \n",
    "              delimiter=' & ', newline=\" \\\\\\\\ \\n\\hline\\n\")  "
   ]
  },
  {
   "cell_type": "markdown",
   "metadata": {},
   "source": [
    "Сбор информации для таблицы"
   ]
  },
  {
   "cell_type": "code",
   "execution_count": 15,
   "metadata": {},
   "outputs": [
    {
     "data": {
      "application/vnd.jupyter.widget-view+json": {
       "model_id": "bee9b242db9545fb9501800b4bbede19",
       "version_major": 2,
       "version_minor": 0
      },
      "text/plain": [
       "HBox(children=(HTML(value=''), FloatProgress(value=0.0, max=11.0), HTML(value='')))"
      ]
     },
     "metadata": {},
     "output_type": "display_data"
    },
    {
     "name": "stdout",
     "output_type": "stream",
     "text": [
      "\n"
     ]
    }
   ],
   "source": [
    "results_req = {}\n",
    "for alg in tqdm(sort_dict):\n",
    "    res = np.array([*Sequence(datas[0]).sorted(key=alg).is_contour(return_all=True).values()]).astype(int)\n",
    "    for i, data in enumerate(datas[1:]):\n",
    "        res1 = np.array([*Sequence(data).sorted(key=alg).is_contour(return_all=True).values()]).astype(int)\n",
    "#         if res1[1]==1:\n",
    "#             print('Loops: ', i)\n",
    "#         if res1[2]==1:\n",
    "#             print('Dead ends: ',i)\n",
    "#         if res1[3]==0:\n",
    "#             print('Single contour: ',i)\n",
    "        res += res1\n",
    "    res[0] = n - res[0]\n",
    "    res[1] = n - res[1]\n",
    "#     res[2] = n - res[2]\n",
    "    results_req[alg] = res"
   ]
  },
  {
   "cell_type": "markdown",
   "metadata": {},
   "source": [
    "Таблица с количеством датасетов, где соответствующие алгоритмы справились с требованиями"
   ]
  },
  {
   "cell_type": "code",
   "execution_count": 17,
   "metadata": {},
   "outputs": [],
   "source": [
    "def highlight_max(data, color='lightgreen'):\n",
    "    '''\n",
    "    highlight the maximum in a Series or DataFrame\n",
    "    '''\n",
    "    attr = 'background-color: {}'.format(color)\n",
    "    if data.ndim == 1:  # Series from .apply(axis=0) or axis=1\n",
    "        is_max = data > 0.89\n",
    "        return [attr if v else '' for v in is_max]\n",
    "    else:  # from .apply(axis=None)\n",
    "        is_max = data['Is contour'] > 0.89\n",
    "        return pd.DataFrame(np.where(is_max, attr, ''),\n",
    "                            index=data.index, columns=data.columns)\n"
   ]
  },
  {
   "cell_type": "code",
   "execution_count": 18,
   "metadata": {},
   "outputs": [
    {
     "data": {
      "text/html": [
       "<style  type=\"text/css\" >\n",
       "#T_25d38516_bcd5_11eb_98f3_48ba4e4ac9b5row3_col3,#T_25d38516_bcd5_11eb_98f3_48ba4e4ac9b5row5_col3,#T_25d38516_bcd5_11eb_98f3_48ba4e4ac9b5row6_col3,#T_25d38516_bcd5_11eb_98f3_48ba4e4ac9b5row8_col3,#T_25d38516_bcd5_11eb_98f3_48ba4e4ac9b5row10_col3{\n",
       "            background-color:  lightgreen;\n",
       "        }</style><table id=\"T_25d38516_bcd5_11eb_98f3_48ba4e4ac9b5\" ><thead>    <tr>        <th class=\"blank level0\" ></th>        <th class=\"col_heading level0 col0\" >No missed data</th>        <th class=\"col_heading level0 col1\" >No loops</th>        <th class=\"col_heading level0 col2\" >Is single contour</th>        <th class=\"col_heading level0 col3\" >Is contour</th>    </tr></thead><tbody>\n",
       "                <tr>\n",
       "                        <th id=\"T_25d38516_bcd5_11eb_98f3_48ba4e4ac9b5level0_row0\" class=\"row_heading level0 row0\" >nn</th>\n",
       "                        <td id=\"T_25d38516_bcd5_11eb_98f3_48ba4e4ac9b5row0_col0\" class=\"data row0 col0\" >100%</td>\n",
       "                        <td id=\"T_25d38516_bcd5_11eb_98f3_48ba4e4ac9b5row0_col1\" class=\"data row0 col1\" >0%</td>\n",
       "                        <td id=\"T_25d38516_bcd5_11eb_98f3_48ba4e4ac9b5row0_col2\" class=\"data row0 col2\" >43%</td>\n",
       "                        <td id=\"T_25d38516_bcd5_11eb_98f3_48ba4e4ac9b5row0_col3\" class=\"data row0 col3\" >0%</td>\n",
       "            </tr>\n",
       "            <tr>\n",
       "                        <th id=\"T_25d38516_bcd5_11eb_98f3_48ba4e4ac9b5level0_row1\" class=\"row_heading level0 row1\" >nn_md</th>\n",
       "                        <td id=\"T_25d38516_bcd5_11eb_98f3_48ba4e4ac9b5row1_col0\" class=\"data row1 col0\" >0%</td>\n",
       "                        <td id=\"T_25d38516_bcd5_11eb_98f3_48ba4e4ac9b5row1_col1\" class=\"data row1 col1\" >5%</td>\n",
       "                        <td id=\"T_25d38516_bcd5_11eb_98f3_48ba4e4ac9b5row1_col2\" class=\"data row1 col2\" >95%</td>\n",
       "                        <td id=\"T_25d38516_bcd5_11eb_98f3_48ba4e4ac9b5row1_col3\" class=\"data row1 col3\" >0%</td>\n",
       "            </tr>\n",
       "            <tr>\n",
       "                        <th id=\"T_25d38516_bcd5_11eb_98f3_48ba4e4ac9b5level0_row2\" class=\"row_heading level0 row2\" >nn_loops</th>\n",
       "                        <td id=\"T_25d38516_bcd5_11eb_98f3_48ba4e4ac9b5row2_col0\" class=\"data row2 col0\" >100%</td>\n",
       "                        <td id=\"T_25d38516_bcd5_11eb_98f3_48ba4e4ac9b5row2_col1\" class=\"data row2 col1\" >5%</td>\n",
       "                        <td id=\"T_25d38516_bcd5_11eb_98f3_48ba4e4ac9b5row2_col2\" class=\"data row2 col2\" >95%</td>\n",
       "                        <td id=\"T_25d38516_bcd5_11eb_98f3_48ba4e4ac9b5row2_col3\" class=\"data row2 col3\" >5%</td>\n",
       "            </tr>\n",
       "            <tr>\n",
       "                        <th id=\"T_25d38516_bcd5_11eb_98f3_48ba4e4ac9b5level0_row3\" class=\"row_heading level0 row3\" >nn_no_loops</th>\n",
       "                        <td id=\"T_25d38516_bcd5_11eb_98f3_48ba4e4ac9b5row3_col0\" class=\"data row3 col0\" >100%</td>\n",
       "                        <td id=\"T_25d38516_bcd5_11eb_98f3_48ba4e4ac9b5row3_col1\" class=\"data row3 col1\" >90%</td>\n",
       "                        <td id=\"T_25d38516_bcd5_11eb_98f3_48ba4e4ac9b5row3_col2\" class=\"data row3 col2\" >95%</td>\n",
       "                        <td id=\"T_25d38516_bcd5_11eb_98f3_48ba4e4ac9b5row3_col3\" class=\"data row3 col3\" >90%</td>\n",
       "            </tr>\n",
       "            <tr>\n",
       "                        <th id=\"T_25d38516_bcd5_11eb_98f3_48ba4e4ac9b5level0_row4\" class=\"row_heading level0 row4\" >nn_21_loops</th>\n",
       "                        <td id=\"T_25d38516_bcd5_11eb_98f3_48ba4e4ac9b5row4_col0\" class=\"data row4 col0\" >100%</td>\n",
       "                        <td id=\"T_25d38516_bcd5_11eb_98f3_48ba4e4ac9b5row4_col1\" class=\"data row4 col1\" >5%</td>\n",
       "                        <td id=\"T_25d38516_bcd5_11eb_98f3_48ba4e4ac9b5row4_col2\" class=\"data row4 col2\" >100%</td>\n",
       "                        <td id=\"T_25d38516_bcd5_11eb_98f3_48ba4e4ac9b5row4_col3\" class=\"data row4 col3\" >5%</td>\n",
       "            </tr>\n",
       "            <tr>\n",
       "                        <th id=\"T_25d38516_bcd5_11eb_98f3_48ba4e4ac9b5level0_row5\" class=\"row_heading level0 row5\" >nn_21_no_loops</th>\n",
       "                        <td id=\"T_25d38516_bcd5_11eb_98f3_48ba4e4ac9b5row5_col0\" class=\"data row5 col0\" >100%</td>\n",
       "                        <td id=\"T_25d38516_bcd5_11eb_98f3_48ba4e4ac9b5row5_col1\" class=\"data row5 col1\" >95%</td>\n",
       "                        <td id=\"T_25d38516_bcd5_11eb_98f3_48ba4e4ac9b5row5_col2\" class=\"data row5 col2\" >100%</td>\n",
       "                        <td id=\"T_25d38516_bcd5_11eb_98f3_48ba4e4ac9b5row5_col3\" class=\"data row5 col3\" >95%</td>\n",
       "            </tr>\n",
       "            <tr>\n",
       "                        <th id=\"T_25d38516_bcd5_11eb_98f3_48ba4e4ac9b5level0_row6\" class=\"row_heading level0 row6\" >polar</th>\n",
       "                        <td id=\"T_25d38516_bcd5_11eb_98f3_48ba4e4ac9b5row6_col0\" class=\"data row6 col0\" >100%</td>\n",
       "                        <td id=\"T_25d38516_bcd5_11eb_98f3_48ba4e4ac9b5row6_col1\" class=\"data row6 col1\" >95%</td>\n",
       "                        <td id=\"T_25d38516_bcd5_11eb_98f3_48ba4e4ac9b5row6_col2\" class=\"data row6 col2\" >100%</td>\n",
       "                        <td id=\"T_25d38516_bcd5_11eb_98f3_48ba4e4ac9b5row6_col3\" class=\"data row6 col3\" >95%</td>\n",
       "            </tr>\n",
       "            <tr>\n",
       "                        <th id=\"T_25d38516_bcd5_11eb_98f3_48ba4e4ac9b5level0_row7\" class=\"row_heading level0 row7\" >ch_loops</th>\n",
       "                        <td id=\"T_25d38516_bcd5_11eb_98f3_48ba4e4ac9b5row7_col0\" class=\"data row7 col0\" >100%</td>\n",
       "                        <td id=\"T_25d38516_bcd5_11eb_98f3_48ba4e4ac9b5row7_col1\" class=\"data row7 col1\" >5%</td>\n",
       "                        <td id=\"T_25d38516_bcd5_11eb_98f3_48ba4e4ac9b5row7_col2\" class=\"data row7 col2\" >100%</td>\n",
       "                        <td id=\"T_25d38516_bcd5_11eb_98f3_48ba4e4ac9b5row7_col3\" class=\"data row7 col3\" >5%</td>\n",
       "            </tr>\n",
       "            <tr>\n",
       "                        <th id=\"T_25d38516_bcd5_11eb_98f3_48ba4e4ac9b5level0_row8\" class=\"row_heading level0 row8\" >ch_no_loops</th>\n",
       "                        <td id=\"T_25d38516_bcd5_11eb_98f3_48ba4e4ac9b5row8_col0\" class=\"data row8 col0\" >100%</td>\n",
       "                        <td id=\"T_25d38516_bcd5_11eb_98f3_48ba4e4ac9b5row8_col1\" class=\"data row8 col1\" >90%</td>\n",
       "                        <td id=\"T_25d38516_bcd5_11eb_98f3_48ba4e4ac9b5row8_col2\" class=\"data row8 col2\" >100%</td>\n",
       "                        <td id=\"T_25d38516_bcd5_11eb_98f3_48ba4e4ac9b5row8_col3\" class=\"data row8 col3\" >90%</td>\n",
       "            </tr>\n",
       "            <tr>\n",
       "                        <th id=\"T_25d38516_bcd5_11eb_98f3_48ba4e4ac9b5level0_row9\" class=\"row_heading level0 row9\" >2-opt</th>\n",
       "                        <td id=\"T_25d38516_bcd5_11eb_98f3_48ba4e4ac9b5row9_col0\" class=\"data row9 col0\" >100%</td>\n",
       "                        <td id=\"T_25d38516_bcd5_11eb_98f3_48ba4e4ac9b5row9_col1\" class=\"data row9 col1\" >71%</td>\n",
       "                        <td id=\"T_25d38516_bcd5_11eb_98f3_48ba4e4ac9b5row9_col2\" class=\"data row9 col2\" >0%</td>\n",
       "                        <td id=\"T_25d38516_bcd5_11eb_98f3_48ba4e4ac9b5row9_col3\" class=\"data row9 col3\" >0%</td>\n",
       "            </tr>\n",
       "            <tr>\n",
       "                        <th id=\"T_25d38516_bcd5_11eb_98f3_48ba4e4ac9b5level0_row10\" class=\"row_heading level0 row10\" >best</th>\n",
       "                        <td id=\"T_25d38516_bcd5_11eb_98f3_48ba4e4ac9b5row10_col0\" class=\"data row10 col0\" >100%</td>\n",
       "                        <td id=\"T_25d38516_bcd5_11eb_98f3_48ba4e4ac9b5row10_col1\" class=\"data row10 col1\" >100%</td>\n",
       "                        <td id=\"T_25d38516_bcd5_11eb_98f3_48ba4e4ac9b5row10_col2\" class=\"data row10 col2\" >100%</td>\n",
       "                        <td id=\"T_25d38516_bcd5_11eb_98f3_48ba4e4ac9b5row10_col3\" class=\"data row10 col3\" >100%</td>\n",
       "            </tr>\n",
       "    </tbody></table>"
      ],
      "text/plain": [
       "<pandas.io.formats.style.Styler at 0x22f00231310>"
      ]
     },
     "execution_count": 18,
     "metadata": {},
     "output_type": "execute_result"
    }
   ],
   "source": [
    "alg_name = ['No missed data', 'No loops', 'Is single contour', 'Is contour']\n",
    "df_req = pd.DataFrame(data=results_req).T  \n",
    "df_req.columns = alg_name\n",
    "df_req = df_req.div(n)\n",
    "save_table_tex(df_req.to_numpy(),'req.txt')\n",
    "df_req.style.apply(highlight_max, subset=['Is contour']).format(\"{:.0%}\")\n",
    "# df_req.style.apply(highlight_max)#.format(\"{:.0%}\")"
   ]
  },
  {
   "cell_type": "markdown",
   "metadata": {},
   "source": [
    "## Длины полученных контуров"
   ]
  },
  {
   "cell_type": "markdown",
   "metadata": {},
   "source": [
    "Вывод длины контуров, полученных при использовании алгоритмов, которые справились с задачей хотя бы на 90%"
   ]
  },
  {
   "cell_type": "code",
   "execution_count": 13,
   "metadata": {},
   "outputs": [
    {
     "data": {
      "application/vnd.jupyter.widget-view+json": {
       "model_id": "969e60c3f7634a179f3886c7ebf8bd9d",
       "version_major": 2,
       "version_minor": 0
      },
      "text/plain": [
       "HBox(children=(HTML(value=''), FloatProgress(value=0.0, max=21.0), HTML(value='')))"
      ]
     },
     "metadata": {},
     "output_type": "display_data"
    },
    {
     "name": "stdout",
     "output_type": "stream",
     "text": [
      "\n"
     ]
    }
   ],
   "source": [
    "good_algs = ['nn_no_loops', 'nn_21_no_loops', 'polar', 'ch_no_loops', 'best']\n",
    "results_len = {}\n",
    "\n",
    "for ind,data in enumerate(tqdm(datas)):\n",
    "    res = []\n",
    "    seq = Sequence(data)\n",
    "    for alg in good_algs:\n",
    "        res.append(seq.sorted(key=alg).get_contour_len())\n",
    "    \n",
    "    results_len[ind+1] = res     \n",
    "    "
   ]
  },
  {
   "cell_type": "code",
   "execution_count": 14,
   "metadata": {},
   "outputs": [
    {
     "data": {
      "text/html": [
       "<style  type=\"text/css\" >\n",
       "#T_4a288aa2_bccc_11eb_a40c_48ba4e4ac9b5row0_col0,#T_4a288aa2_bccc_11eb_a40c_48ba4e4ac9b5row0_col4,#T_4a288aa2_bccc_11eb_a40c_48ba4e4ac9b5row1_col0,#T_4a288aa2_bccc_11eb_a40c_48ba4e4ac9b5row1_col4,#T_4a288aa2_bccc_11eb_a40c_48ba4e4ac9b5row2_col1,#T_4a288aa2_bccc_11eb_a40c_48ba4e4ac9b5row2_col4,#T_4a288aa2_bccc_11eb_a40c_48ba4e4ac9b5row3_col0,#T_4a288aa2_bccc_11eb_a40c_48ba4e4ac9b5row3_col4,#T_4a288aa2_bccc_11eb_a40c_48ba4e4ac9b5row4_col0,#T_4a288aa2_bccc_11eb_a40c_48ba4e4ac9b5row4_col4,#T_4a288aa2_bccc_11eb_a40c_48ba4e4ac9b5row5_col0,#T_4a288aa2_bccc_11eb_a40c_48ba4e4ac9b5row5_col4,#T_4a288aa2_bccc_11eb_a40c_48ba4e4ac9b5row6_col0,#T_4a288aa2_bccc_11eb_a40c_48ba4e4ac9b5row6_col4,#T_4a288aa2_bccc_11eb_a40c_48ba4e4ac9b5row7_col0,#T_4a288aa2_bccc_11eb_a40c_48ba4e4ac9b5row7_col4,#T_4a288aa2_bccc_11eb_a40c_48ba4e4ac9b5row8_col0,#T_4a288aa2_bccc_11eb_a40c_48ba4e4ac9b5row8_col4,#T_4a288aa2_bccc_11eb_a40c_48ba4e4ac9b5row9_col0,#T_4a288aa2_bccc_11eb_a40c_48ba4e4ac9b5row9_col4,#T_4a288aa2_bccc_11eb_a40c_48ba4e4ac9b5row10_col0,#T_4a288aa2_bccc_11eb_a40c_48ba4e4ac9b5row10_col4,#T_4a288aa2_bccc_11eb_a40c_48ba4e4ac9b5row11_col1,#T_4a288aa2_bccc_11eb_a40c_48ba4e4ac9b5row12_col0,#T_4a288aa2_bccc_11eb_a40c_48ba4e4ac9b5row12_col4,#T_4a288aa2_bccc_11eb_a40c_48ba4e4ac9b5row13_col0,#T_4a288aa2_bccc_11eb_a40c_48ba4e4ac9b5row13_col4,#T_4a288aa2_bccc_11eb_a40c_48ba4e4ac9b5row14_col0,#T_4a288aa2_bccc_11eb_a40c_48ba4e4ac9b5row14_col4,#T_4a288aa2_bccc_11eb_a40c_48ba4e4ac9b5row15_col0,#T_4a288aa2_bccc_11eb_a40c_48ba4e4ac9b5row15_col4,#T_4a288aa2_bccc_11eb_a40c_48ba4e4ac9b5row16_col0,#T_4a288aa2_bccc_11eb_a40c_48ba4e4ac9b5row16_col4,#T_4a288aa2_bccc_11eb_a40c_48ba4e4ac9b5row17_col0,#T_4a288aa2_bccc_11eb_a40c_48ba4e4ac9b5row17_col4,#T_4a288aa2_bccc_11eb_a40c_48ba4e4ac9b5row18_col0,#T_4a288aa2_bccc_11eb_a40c_48ba4e4ac9b5row18_col4,#T_4a288aa2_bccc_11eb_a40c_48ba4e4ac9b5row19_col0,#T_4a288aa2_bccc_11eb_a40c_48ba4e4ac9b5row20_col0,#T_4a288aa2_bccc_11eb_a40c_48ba4e4ac9b5row20_col4{\n",
       "            background-color:  lightgreen;\n",
       "        }</style><table id=\"T_4a288aa2_bccc_11eb_a40c_48ba4e4ac9b5\" ><thead>    <tr>        <th class=\"blank level0\" ></th>        <th class=\"col_heading level0 col0\" >Улучшенный алгоритм ближайшего соседа</th>        <th class=\"col_heading level0 col1\" >Вставка второго контура в первый</th>        <th class=\"col_heading level0 col2\" >Сортировка по полярным координатам</th>        <th class=\"col_heading level0 col3\" >Вставка точек в выпуклую оболочку</th>        <th class=\"col_heading level0 col4\" >Объединение алгоритмов</th>    </tr></thead><tbody>\n",
       "                <tr>\n",
       "                        <th id=\"T_4a288aa2_bccc_11eb_a40c_48ba4e4ac9b5level0_row0\" class=\"row_heading level0 row0\" >1</th>\n",
       "                        <td id=\"T_4a288aa2_bccc_11eb_a40c_48ba4e4ac9b5row0_col0\" class=\"data row0 col0\" >107.346467</td>\n",
       "                        <td id=\"T_4a288aa2_bccc_11eb_a40c_48ba4e4ac9b5row0_col1\" class=\"data row0 col1\" >114.709741</td>\n",
       "                        <td id=\"T_4a288aa2_bccc_11eb_a40c_48ba4e4ac9b5row0_col2\" class=\"data row0 col2\" >214.703372</td>\n",
       "                        <td id=\"T_4a288aa2_bccc_11eb_a40c_48ba4e4ac9b5row0_col3\" class=\"data row0 col3\" >110.316070</td>\n",
       "                        <td id=\"T_4a288aa2_bccc_11eb_a40c_48ba4e4ac9b5row0_col4\" class=\"data row0 col4\" >107.346467</td>\n",
       "            </tr>\n",
       "            <tr>\n",
       "                        <th id=\"T_4a288aa2_bccc_11eb_a40c_48ba4e4ac9b5level0_row1\" class=\"row_heading level0 row1\" >2</th>\n",
       "                        <td id=\"T_4a288aa2_bccc_11eb_a40c_48ba4e4ac9b5row1_col0\" class=\"data row1 col0\" >113.762904</td>\n",
       "                        <td id=\"T_4a288aa2_bccc_11eb_a40c_48ba4e4ac9b5row1_col1\" class=\"data row1 col1\" >123.298389</td>\n",
       "                        <td id=\"T_4a288aa2_bccc_11eb_a40c_48ba4e4ac9b5row1_col2\" class=\"data row1 col2\" >354.841596</td>\n",
       "                        <td id=\"T_4a288aa2_bccc_11eb_a40c_48ba4e4ac9b5row1_col3\" class=\"data row1 col3\" >128.612149</td>\n",
       "                        <td id=\"T_4a288aa2_bccc_11eb_a40c_48ba4e4ac9b5row1_col4\" class=\"data row1 col4\" >113.762904</td>\n",
       "            </tr>\n",
       "            <tr>\n",
       "                        <th id=\"T_4a288aa2_bccc_11eb_a40c_48ba4e4ac9b5level0_row2\" class=\"row_heading level0 row2\" >3</th>\n",
       "                        <td id=\"T_4a288aa2_bccc_11eb_a40c_48ba4e4ac9b5row2_col0\" class=\"data row2 col0\" >180.971359</td>\n",
       "                        <td id=\"T_4a288aa2_bccc_11eb_a40c_48ba4e4ac9b5row2_col1\" class=\"data row2 col1\" >131.146411</td>\n",
       "                        <td id=\"T_4a288aa2_bccc_11eb_a40c_48ba4e4ac9b5row2_col2\" class=\"data row2 col2\" >419.436392</td>\n",
       "                        <td id=\"T_4a288aa2_bccc_11eb_a40c_48ba4e4ac9b5row2_col3\" class=\"data row2 col3\" >141.190250</td>\n",
       "                        <td id=\"T_4a288aa2_bccc_11eb_a40c_48ba4e4ac9b5row2_col4\" class=\"data row2 col4\" >131.146411</td>\n",
       "            </tr>\n",
       "            <tr>\n",
       "                        <th id=\"T_4a288aa2_bccc_11eb_a40c_48ba4e4ac9b5level0_row3\" class=\"row_heading level0 row3\" >4</th>\n",
       "                        <td id=\"T_4a288aa2_bccc_11eb_a40c_48ba4e4ac9b5row3_col0\" class=\"data row3 col0\" >119.763647</td>\n",
       "                        <td id=\"T_4a288aa2_bccc_11eb_a40c_48ba4e4ac9b5row3_col1\" class=\"data row3 col1\" >124.749270</td>\n",
       "                        <td id=\"T_4a288aa2_bccc_11eb_a40c_48ba4e4ac9b5row3_col2\" class=\"data row3 col2\" >258.073714</td>\n",
       "                        <td id=\"T_4a288aa2_bccc_11eb_a40c_48ba4e4ac9b5row3_col3\" class=\"data row3 col3\" >127.788364</td>\n",
       "                        <td id=\"T_4a288aa2_bccc_11eb_a40c_48ba4e4ac9b5row3_col4\" class=\"data row3 col4\" >119.763647</td>\n",
       "            </tr>\n",
       "            <tr>\n",
       "                        <th id=\"T_4a288aa2_bccc_11eb_a40c_48ba4e4ac9b5level0_row4\" class=\"row_heading level0 row4\" >5</th>\n",
       "                        <td id=\"T_4a288aa2_bccc_11eb_a40c_48ba4e4ac9b5row4_col0\" class=\"data row4 col0\" >121.460905</td>\n",
       "                        <td id=\"T_4a288aa2_bccc_11eb_a40c_48ba4e4ac9b5row4_col1\" class=\"data row4 col1\" >129.124599</td>\n",
       "                        <td id=\"T_4a288aa2_bccc_11eb_a40c_48ba4e4ac9b5row4_col2\" class=\"data row4 col2\" >361.100414</td>\n",
       "                        <td id=\"T_4a288aa2_bccc_11eb_a40c_48ba4e4ac9b5row4_col3\" class=\"data row4 col3\" >130.957475</td>\n",
       "                        <td id=\"T_4a288aa2_bccc_11eb_a40c_48ba4e4ac9b5row4_col4\" class=\"data row4 col4\" >121.460905</td>\n",
       "            </tr>\n",
       "            <tr>\n",
       "                        <th id=\"T_4a288aa2_bccc_11eb_a40c_48ba4e4ac9b5level0_row5\" class=\"row_heading level0 row5\" >6</th>\n",
       "                        <td id=\"T_4a288aa2_bccc_11eb_a40c_48ba4e4ac9b5row5_col0\" class=\"data row5 col0\" >118.455023</td>\n",
       "                        <td id=\"T_4a288aa2_bccc_11eb_a40c_48ba4e4ac9b5row5_col1\" class=\"data row5 col1\" >125.425673</td>\n",
       "                        <td id=\"T_4a288aa2_bccc_11eb_a40c_48ba4e4ac9b5row5_col2\" class=\"data row5 col2\" >250.910628</td>\n",
       "                        <td id=\"T_4a288aa2_bccc_11eb_a40c_48ba4e4ac9b5row5_col3\" class=\"data row5 col3\" >132.632650</td>\n",
       "                        <td id=\"T_4a288aa2_bccc_11eb_a40c_48ba4e4ac9b5row5_col4\" class=\"data row5 col4\" >118.455023</td>\n",
       "            </tr>\n",
       "            <tr>\n",
       "                        <th id=\"T_4a288aa2_bccc_11eb_a40c_48ba4e4ac9b5level0_row6\" class=\"row_heading level0 row6\" >7</th>\n",
       "                        <td id=\"T_4a288aa2_bccc_11eb_a40c_48ba4e4ac9b5row6_col0\" class=\"data row6 col0\" >117.784171</td>\n",
       "                        <td id=\"T_4a288aa2_bccc_11eb_a40c_48ba4e4ac9b5row6_col1\" class=\"data row6 col1\" >125.702390</td>\n",
       "                        <td id=\"T_4a288aa2_bccc_11eb_a40c_48ba4e4ac9b5row6_col2\" class=\"data row6 col2\" >320.829496</td>\n",
       "                        <td id=\"T_4a288aa2_bccc_11eb_a40c_48ba4e4ac9b5row6_col3\" class=\"data row6 col3\" >133.476444</td>\n",
       "                        <td id=\"T_4a288aa2_bccc_11eb_a40c_48ba4e4ac9b5row6_col4\" class=\"data row6 col4\" >117.784171</td>\n",
       "            </tr>\n",
       "            <tr>\n",
       "                        <th id=\"T_4a288aa2_bccc_11eb_a40c_48ba4e4ac9b5level0_row7\" class=\"row_heading level0 row7\" >8</th>\n",
       "                        <td id=\"T_4a288aa2_bccc_11eb_a40c_48ba4e4ac9b5row7_col0\" class=\"data row7 col0\" >108.103099</td>\n",
       "                        <td id=\"T_4a288aa2_bccc_11eb_a40c_48ba4e4ac9b5row7_col1\" class=\"data row7 col1\" >114.756496</td>\n",
       "                        <td id=\"T_4a288aa2_bccc_11eb_a40c_48ba4e4ac9b5row7_col2\" class=\"data row7 col2\" >160.167858</td>\n",
       "                        <td id=\"T_4a288aa2_bccc_11eb_a40c_48ba4e4ac9b5row7_col3\" class=\"data row7 col3\" >115.162566</td>\n",
       "                        <td id=\"T_4a288aa2_bccc_11eb_a40c_48ba4e4ac9b5row7_col4\" class=\"data row7 col4\" >108.103099</td>\n",
       "            </tr>\n",
       "            <tr>\n",
       "                        <th id=\"T_4a288aa2_bccc_11eb_a40c_48ba4e4ac9b5level0_row8\" class=\"row_heading level0 row8\" >9</th>\n",
       "                        <td id=\"T_4a288aa2_bccc_11eb_a40c_48ba4e4ac9b5row8_col0\" class=\"data row8 col0\" >118.616352</td>\n",
       "                        <td id=\"T_4a288aa2_bccc_11eb_a40c_48ba4e4ac9b5row8_col1\" class=\"data row8 col1\" >122.467534</td>\n",
       "                        <td id=\"T_4a288aa2_bccc_11eb_a40c_48ba4e4ac9b5row8_col2\" class=\"data row8 col2\" >245.444132</td>\n",
       "                        <td id=\"T_4a288aa2_bccc_11eb_a40c_48ba4e4ac9b5row8_col3\" class=\"data row8 col3\" >129.453873</td>\n",
       "                        <td id=\"T_4a288aa2_bccc_11eb_a40c_48ba4e4ac9b5row8_col4\" class=\"data row8 col4\" >118.616352</td>\n",
       "            </tr>\n",
       "            <tr>\n",
       "                        <th id=\"T_4a288aa2_bccc_11eb_a40c_48ba4e4ac9b5level0_row9\" class=\"row_heading level0 row9\" >10</th>\n",
       "                        <td id=\"T_4a288aa2_bccc_11eb_a40c_48ba4e4ac9b5row9_col0\" class=\"data row9 col0\" >105.434966</td>\n",
       "                        <td id=\"T_4a288aa2_bccc_11eb_a40c_48ba4e4ac9b5row9_col1\" class=\"data row9 col1\" >112.588473</td>\n",
       "                        <td id=\"T_4a288aa2_bccc_11eb_a40c_48ba4e4ac9b5row9_col2\" class=\"data row9 col2\" >210.667829</td>\n",
       "                        <td id=\"T_4a288aa2_bccc_11eb_a40c_48ba4e4ac9b5row9_col3\" class=\"data row9 col3\" >122.610815</td>\n",
       "                        <td id=\"T_4a288aa2_bccc_11eb_a40c_48ba4e4ac9b5row9_col4\" class=\"data row9 col4\" >105.434966</td>\n",
       "            </tr>\n",
       "            <tr>\n",
       "                        <th id=\"T_4a288aa2_bccc_11eb_a40c_48ba4e4ac9b5level0_row10\" class=\"row_heading level0 row10\" >11</th>\n",
       "                        <td id=\"T_4a288aa2_bccc_11eb_a40c_48ba4e4ac9b5row10_col0\" class=\"data row10 col0\" >129.568246</td>\n",
       "                        <td id=\"T_4a288aa2_bccc_11eb_a40c_48ba4e4ac9b5row10_col1\" class=\"data row10 col1\" >135.635660</td>\n",
       "                        <td id=\"T_4a288aa2_bccc_11eb_a40c_48ba4e4ac9b5row10_col2\" class=\"data row10 col2\" >392.387076</td>\n",
       "                        <td id=\"T_4a288aa2_bccc_11eb_a40c_48ba4e4ac9b5row10_col3\" class=\"data row10 col3\" >144.295716</td>\n",
       "                        <td id=\"T_4a288aa2_bccc_11eb_a40c_48ba4e4ac9b5row10_col4\" class=\"data row10 col4\" >129.568246</td>\n",
       "            </tr>\n",
       "            <tr>\n",
       "                        <th id=\"T_4a288aa2_bccc_11eb_a40c_48ba4e4ac9b5level0_row11\" class=\"row_heading level0 row11\" >12</th>\n",
       "                        <td id=\"T_4a288aa2_bccc_11eb_a40c_48ba4e4ac9b5row11_col0\" class=\"data row11 col0\" >122.831217</td>\n",
       "                        <td id=\"T_4a288aa2_bccc_11eb_a40c_48ba4e4ac9b5row11_col1\" class=\"data row11 col1\" >120.271660</td>\n",
       "                        <td id=\"T_4a288aa2_bccc_11eb_a40c_48ba4e4ac9b5row11_col2\" class=\"data row11 col2\" >225.692326</td>\n",
       "                        <td id=\"T_4a288aa2_bccc_11eb_a40c_48ba4e4ac9b5row11_col3\" class=\"data row11 col3\" >123.461425</td>\n",
       "                        <td id=\"T_4a288aa2_bccc_11eb_a40c_48ba4e4ac9b5row11_col4\" class=\"data row11 col4\" >122.831217</td>\n",
       "            </tr>\n",
       "            <tr>\n",
       "                        <th id=\"T_4a288aa2_bccc_11eb_a40c_48ba4e4ac9b5level0_row12\" class=\"row_heading level0 row12\" >13</th>\n",
       "                        <td id=\"T_4a288aa2_bccc_11eb_a40c_48ba4e4ac9b5row12_col0\" class=\"data row12 col0\" >119.838872</td>\n",
       "                        <td id=\"T_4a288aa2_bccc_11eb_a40c_48ba4e4ac9b5row12_col1\" class=\"data row12 col1\" >124.888683</td>\n",
       "                        <td id=\"T_4a288aa2_bccc_11eb_a40c_48ba4e4ac9b5row12_col2\" class=\"data row12 col2\" >358.413213</td>\n",
       "                        <td id=\"T_4a288aa2_bccc_11eb_a40c_48ba4e4ac9b5row12_col3\" class=\"data row12 col3\" >135.555189</td>\n",
       "                        <td id=\"T_4a288aa2_bccc_11eb_a40c_48ba4e4ac9b5row12_col4\" class=\"data row12 col4\" >119.838872</td>\n",
       "            </tr>\n",
       "            <tr>\n",
       "                        <th id=\"T_4a288aa2_bccc_11eb_a40c_48ba4e4ac9b5level0_row13\" class=\"row_heading level0 row13\" >14</th>\n",
       "                        <td id=\"T_4a288aa2_bccc_11eb_a40c_48ba4e4ac9b5row13_col0\" class=\"data row13 col0\" >121.761402</td>\n",
       "                        <td id=\"T_4a288aa2_bccc_11eb_a40c_48ba4e4ac9b5row13_col1\" class=\"data row13 col1\" >122.470748</td>\n",
       "                        <td id=\"T_4a288aa2_bccc_11eb_a40c_48ba4e4ac9b5row13_col2\" class=\"data row13 col2\" >223.932479</td>\n",
       "                        <td id=\"T_4a288aa2_bccc_11eb_a40c_48ba4e4ac9b5row13_col3\" class=\"data row13 col3\" >125.889694</td>\n",
       "                        <td id=\"T_4a288aa2_bccc_11eb_a40c_48ba4e4ac9b5row13_col4\" class=\"data row13 col4\" >121.761402</td>\n",
       "            </tr>\n",
       "            <tr>\n",
       "                        <th id=\"T_4a288aa2_bccc_11eb_a40c_48ba4e4ac9b5level0_row14\" class=\"row_heading level0 row14\" >15</th>\n",
       "                        <td id=\"T_4a288aa2_bccc_11eb_a40c_48ba4e4ac9b5row14_col0\" class=\"data row14 col0\" >120.479767</td>\n",
       "                        <td id=\"T_4a288aa2_bccc_11eb_a40c_48ba4e4ac9b5row14_col1\" class=\"data row14 col1\" >125.500062</td>\n",
       "                        <td id=\"T_4a288aa2_bccc_11eb_a40c_48ba4e4ac9b5row14_col2\" class=\"data row14 col2\" >309.864889</td>\n",
       "                        <td id=\"T_4a288aa2_bccc_11eb_a40c_48ba4e4ac9b5row14_col3\" class=\"data row14 col3\" >138.599169</td>\n",
       "                        <td id=\"T_4a288aa2_bccc_11eb_a40c_48ba4e4ac9b5row14_col4\" class=\"data row14 col4\" >120.479767</td>\n",
       "            </tr>\n",
       "            <tr>\n",
       "                        <th id=\"T_4a288aa2_bccc_11eb_a40c_48ba4e4ac9b5level0_row15\" class=\"row_heading level0 row15\" >16</th>\n",
       "                        <td id=\"T_4a288aa2_bccc_11eb_a40c_48ba4e4ac9b5row15_col0\" class=\"data row15 col0\" >105.825015</td>\n",
       "                        <td id=\"T_4a288aa2_bccc_11eb_a40c_48ba4e4ac9b5row15_col1\" class=\"data row15 col1\" >111.217767</td>\n",
       "                        <td id=\"T_4a288aa2_bccc_11eb_a40c_48ba4e4ac9b5row15_col2\" class=\"data row15 col2\" >151.623831</td>\n",
       "                        <td id=\"T_4a288aa2_bccc_11eb_a40c_48ba4e4ac9b5row15_col3\" class=\"data row15 col3\" >108.240942</td>\n",
       "                        <td id=\"T_4a288aa2_bccc_11eb_a40c_48ba4e4ac9b5row15_col4\" class=\"data row15 col4\" >105.825015</td>\n",
       "            </tr>\n",
       "            <tr>\n",
       "                        <th id=\"T_4a288aa2_bccc_11eb_a40c_48ba4e4ac9b5level0_row16\" class=\"row_heading level0 row16\" >17</th>\n",
       "                        <td id=\"T_4a288aa2_bccc_11eb_a40c_48ba4e4ac9b5row16_col0\" class=\"data row16 col0\" >109.159559</td>\n",
       "                        <td id=\"T_4a288aa2_bccc_11eb_a40c_48ba4e4ac9b5row16_col1\" class=\"data row16 col1\" >114.410170</td>\n",
       "                        <td id=\"T_4a288aa2_bccc_11eb_a40c_48ba4e4ac9b5row16_col2\" class=\"data row16 col2\" >204.625945</td>\n",
       "                        <td id=\"T_4a288aa2_bccc_11eb_a40c_48ba4e4ac9b5row16_col3\" class=\"data row16 col3\" >127.100338</td>\n",
       "                        <td id=\"T_4a288aa2_bccc_11eb_a40c_48ba4e4ac9b5row16_col4\" class=\"data row16 col4\" >109.159559</td>\n",
       "            </tr>\n",
       "            <tr>\n",
       "                        <th id=\"T_4a288aa2_bccc_11eb_a40c_48ba4e4ac9b5level0_row17\" class=\"row_heading level0 row17\" >18</th>\n",
       "                        <td id=\"T_4a288aa2_bccc_11eb_a40c_48ba4e4ac9b5row17_col0\" class=\"data row17 col0\" >116.247012</td>\n",
       "                        <td id=\"T_4a288aa2_bccc_11eb_a40c_48ba4e4ac9b5row17_col1\" class=\"data row17 col1\" >131.037090</td>\n",
       "                        <td id=\"T_4a288aa2_bccc_11eb_a40c_48ba4e4ac9b5row17_col2\" class=\"data row17 col2\" >206.478779</td>\n",
       "                        <td id=\"T_4a288aa2_bccc_11eb_a40c_48ba4e4ac9b5row17_col3\" class=\"data row17 col3\" >125.582760</td>\n",
       "                        <td id=\"T_4a288aa2_bccc_11eb_a40c_48ba4e4ac9b5row17_col4\" class=\"data row17 col4\" >116.247012</td>\n",
       "            </tr>\n",
       "            <tr>\n",
       "                        <th id=\"T_4a288aa2_bccc_11eb_a40c_48ba4e4ac9b5level0_row18\" class=\"row_heading level0 row18\" >19</th>\n",
       "                        <td id=\"T_4a288aa2_bccc_11eb_a40c_48ba4e4ac9b5row18_col0\" class=\"data row18 col0\" >121.616276</td>\n",
       "                        <td id=\"T_4a288aa2_bccc_11eb_a40c_48ba4e4ac9b5row18_col1\" class=\"data row18 col1\" >127.888992</td>\n",
       "                        <td id=\"T_4a288aa2_bccc_11eb_a40c_48ba4e4ac9b5row18_col2\" class=\"data row18 col2\" >274.165151</td>\n",
       "                        <td id=\"T_4a288aa2_bccc_11eb_a40c_48ba4e4ac9b5row18_col3\" class=\"data row18 col3\" >136.298435</td>\n",
       "                        <td id=\"T_4a288aa2_bccc_11eb_a40c_48ba4e4ac9b5row18_col4\" class=\"data row18 col4\" >121.616276</td>\n",
       "            </tr>\n",
       "            <tr>\n",
       "                        <th id=\"T_4a288aa2_bccc_11eb_a40c_48ba4e4ac9b5level0_row19\" class=\"row_heading level0 row19\" >20</th>\n",
       "                        <td id=\"T_4a288aa2_bccc_11eb_a40c_48ba4e4ac9b5row19_col0\" class=\"data row19 col0\" >117.452514</td>\n",
       "                        <td id=\"T_4a288aa2_bccc_11eb_a40c_48ba4e4ac9b5row19_col1\" class=\"data row19 col1\" >121.029493</td>\n",
       "                        <td id=\"T_4a288aa2_bccc_11eb_a40c_48ba4e4ac9b5row19_col2\" class=\"data row19 col2\" >210.883321</td>\n",
       "                        <td id=\"T_4a288aa2_bccc_11eb_a40c_48ba4e4ac9b5row19_col3\" class=\"data row19 col3\" >123.307360</td>\n",
       "                        <td id=\"T_4a288aa2_bccc_11eb_a40c_48ba4e4ac9b5row19_col4\" class=\"data row19 col4\" >123.307360</td>\n",
       "            </tr>\n",
       "            <tr>\n",
       "                        <th id=\"T_4a288aa2_bccc_11eb_a40c_48ba4e4ac9b5level0_row20\" class=\"row_heading level0 row20\" >21</th>\n",
       "                        <td id=\"T_4a288aa2_bccc_11eb_a40c_48ba4e4ac9b5row20_col0\" class=\"data row20 col0\" >117.075295</td>\n",
       "                        <td id=\"T_4a288aa2_bccc_11eb_a40c_48ba4e4ac9b5row20_col1\" class=\"data row20 col1\" >122.367615</td>\n",
       "                        <td id=\"T_4a288aa2_bccc_11eb_a40c_48ba4e4ac9b5row20_col2\" class=\"data row20 col2\" >309.045985</td>\n",
       "                        <td id=\"T_4a288aa2_bccc_11eb_a40c_48ba4e4ac9b5row20_col3\" class=\"data row20 col3\" >125.065379</td>\n",
       "                        <td id=\"T_4a288aa2_bccc_11eb_a40c_48ba4e4ac9b5row20_col4\" class=\"data row20 col4\" >117.075295</td>\n",
       "            </tr>\n",
       "    </tbody></table>"
      ],
      "text/plain": [
       "<pandas.io.formats.style.Styler at 0x22f7cd560d0>"
      ]
     },
     "execution_count": 14,
     "metadata": {},
     "output_type": "execute_result"
    }
   ],
   "source": [
    "alg_name = ['Улучшенный алгоритм ближайшего соседа', 'Вставка второго контура в первый','Сортировка по полярным координатам','Вставка точек в выпуклую оболочку','Объединение алгоритмов']\n",
    "df = pd.DataFrame(data=results_len).T  \n",
    "df.columns = alg_name\n",
    "save_table_tex(df.to_numpy(),'length.txt')\n",
    "df.style.highlight_min(color='lightgreen',axis = 1)"
   ]
  }
 ],
 "metadata": {
  "kernelspec": {
   "display_name": "Python 3",
   "language": "python",
   "name": "python3"
  },
  "language_info": {
   "codemirror_mode": {
    "name": "ipython",
    "version": 3
   },
   "file_extension": ".py",
   "mimetype": "text/x-python",
   "name": "python",
   "nbconvert_exporter": "python",
   "pygments_lexer": "ipython3",
   "version": "3.8.5"
  }
 },
 "nbformat": 4,
 "nbformat_minor": 4
}
